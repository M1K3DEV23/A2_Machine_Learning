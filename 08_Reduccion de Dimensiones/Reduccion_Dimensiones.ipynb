{
 "cells": [
  {
   "cell_type": "markdown",
   "id": "706d03e7-0997-4e44-8d63-24815966bba0",
   "metadata": {},
   "source": [
    "# Capítulo 8: Reducción de Dimensionalidades"
   ]
  },
  {
   "cell_type": "markdown",
   "id": "ffdfd9bc-4139-493e-9ef0-9809b3457765",
   "metadata": {},
   "source": [
    "## <span style=\"color:green\">1. PCA</span>"
   ]
  },
  {
   "cell_type": "markdown",
   "id": "acd08539-0131-414a-879c-c92299463951",
   "metadata": {},
   "source": [
    "PCA=Principal Component Analysis"
   ]
  },
  {
   "cell_type": "code",
   "execution_count": 1,
   "id": "ff72570a-df50-4427-9919-18101f4a1398",
   "metadata": {},
   "outputs": [],
   "source": [
    "#Importa los librerías pandas, numpy, matplotlib, os. Ya te la sabes, babyyy\n",
    "import numpy as np\n",
    "import pandas as pd\n",
    "import matplotlib.pyplot as plt\n",
    "import seaborn as sns"
   ]
  },
  {
   "cell_type": "code",
   "execution_count": 2,
   "id": "a9a9a664-e695-4a7e-91d6-59c8d59c88f4",
   "metadata": {},
   "outputs": [],
   "source": [
    "#Trae los datos que necesitamos\n",
    "candidates = {'gmat': [780,750,690,710,680,730,690,720,740,690,610,690,710,680,770,610,580,650,540,590,620,600,550,550,570,670,660,580,650,660,640,620,660,660,680,650,670,580,590,690],\n",
    "              'gpa': [4,3.9,3.3,3.7,3.9,3.7,2.3,3.3,3.3,1.7,2.7,3.7,3.7,3.3,3.3,3,2.7,3.7,2.7,2.3,3.3,2,2.3,2.7,3,3.3,3.7,2.3,3.7,3.3,3,2.7,4,3.3,3.3,2.3,2.7,3.3,1.7,3.7],\n",
    "              'work_experience': [3,4,3,5,4,6,1,4,5,1,3,5,6,4,3,1,4,6,2,3,2,1,4,1,2,6,4,2,6,5,1,2,4,6,5,1,2,1,4,5],\n",
    "              'admitted': [1,1,0,1,0,1,0,1,1,0,0,1,1,0,1,0,0,1,0,0,1,0,0,0,0,1,1,0,1,1,0,0,1,1,1,0,0,0,0,1]\n",
    "              }"
   ]
  },
  {
   "cell_type": "code",
   "execution_count": 4,
   "id": "e984e52d-69d7-4256-ae16-6379e57b3466",
   "metadata": {},
   "outputs": [],
   "source": [
    "#Separa el dataframe en los datos que vamos a utilizar para predecir y los datos predichos\n",
    "df = pd.DataFrame(candidates, columns=['gmat', 'gpa', 'work_experience', 'admitted'])\n",
    "\n",
    "X = df[['gpa', 'gmat', 'work_experience']]\n",
    "y = df['admitted']"
   ]
  },
  {
   "cell_type": "code",
   "execution_count": 5,
   "id": "d8d4793b-37c1-4217-9e09-4d7d940998e2",
   "metadata": {},
   "outputs": [
    {
     "data": {
      "text/plain": [
       "(array([-0.00576901, -0.99991795, -0.01143706]),\n",
       " array([ 0.16747873, -0.01224184,  0.98579968]))"
      ]
     },
     "execution_count": 5,
     "metadata": {},
     "output_type": "execute_result"
    }
   ],
   "source": [
    "#Una vez teniendo nuestros datos centramos x restándole su media.\n",
    "X_centrada = X - X.mean(axis=0)\n",
    "#Recordemos que SVD descompone X en 3 matrices U, E y V por lo que utilizamos la función de numpy svd.\n",
    "U, E, V = np.linalg.svd(X_centrada)\n",
    "#V es la que contiene los vectores con los componentes principales\n",
    "#para obtener los primeros 2 simplemente transponemos sus primeras 2 columnas.\n",
    "pc1 = V.T[:,0]\n",
    "pc2 = V.T[:,1]\n",
    "\n",
    "pc1, pc2"
   ]
  },
  {
   "cell_type": "markdown",
   "id": "8b4146cb-9552-410e-ae19-2d66d2eeb0f7",
   "metadata": {},
   "source": [
    "Para proyectar nuestros datos en el hiperplano y obtener nuestra matriz X de dimensiones reducidas\n",
    "tenemos que XNUEVA = XW donde X es nuestra matriz de datos original y W es la matriz \n",
    "que contiene nuestros vectores de componentes principales."
   ]
  },
  {
   "cell_type": "code",
   "execution_count": 6,
   "id": "b533bae6-3287-4c47-8cee-2619a7b4877d",
   "metadata": {},
   "outputs": [
    {
     "data": {
      "text/html": [
       "<div>\n",
       "<style scoped>\n",
       "    .dataframe tbody tr th:only-of-type {\n",
       "        vertical-align: middle;\n",
       "    }\n",
       "\n",
       "    .dataframe tbody tr th {\n",
       "        vertical-align: top;\n",
       "    }\n",
       "\n",
       "    .dataframe thead th {\n",
       "        text-align: right;\n",
       "    }\n",
       "</style>\n",
       "<table border=\"1\" class=\"dataframe\">\n",
       "  <thead>\n",
       "    <tr style=\"text-align: right;\">\n",
       "      <th></th>\n",
       "      <th>0</th>\n",
       "      <th>1</th>\n",
       "    </tr>\n",
       "  </thead>\n",
       "  <tbody>\n",
       "    <tr>\n",
       "      <th>0</th>\n",
       "      <td>-125.990022</td>\n",
       "      <td>-1.809869</td>\n",
       "    </tr>\n",
       "    <tr>\n",
       "      <th>1</th>\n",
       "      <td>-96.003344</td>\n",
       "      <td>-0.473562</td>\n",
       "    </tr>\n",
       "    <tr>\n",
       "      <th>2</th>\n",
       "      <td>-35.993368</td>\n",
       "      <td>-0.825338</td>\n",
       "    </tr>\n",
       "    <tr>\n",
       "      <th>3</th>\n",
       "      <td>-56.016909</td>\n",
       "      <td>0.968416</td>\n",
       "    </tr>\n",
       "    <tr>\n",
       "      <th>4</th>\n",
       "      <td>-26.009087</td>\n",
       "      <td>0.383367</td>\n",
       "    </tr>\n",
       "  </tbody>\n",
       "</table>\n",
       "</div>"
      ],
      "text/plain": [
       "            0         1\n",
       "0 -125.990022 -1.809869\n",
       "1  -96.003344 -0.473562\n",
       "2  -35.993368 -0.825338\n",
       "3  -56.016909  0.968416\n",
       "4  -26.009087  0.383367"
      ]
     },
     "execution_count": 6,
     "metadata": {},
     "output_type": "execute_result"
    }
   ],
   "source": [
    "W = V.T[:, :2]\n",
    "\n",
    "X_nueva = X_centrada.dot(W)\n",
    "\n",
    "X_nueva.head()"
   ]
  },
  {
   "cell_type": "markdown",
   "id": "04c767b2-6363-4455-b618-b91508d18d36",
   "metadata": {},
   "source": [
    "### <span style=\"color:blue\">1.1 Con Scikit</span>"
   ]
  },
  {
   "cell_type": "code",
   "execution_count": 7,
   "id": "7b225056-b240-47db-9794-5653cba6a104",
   "metadata": {},
   "outputs": [
    {
     "data": {
      "text/plain": [
       "array([[125.99002225,   1.80986853],\n",
       "       [ 96.00334382,   0.4735615 ],\n",
       "       [ 35.9933682 ,   0.82533799],\n",
       "       [ 56.01690897,  -0.96841606],\n",
       "       [ 26.00908713,  -0.38336734]])"
      ]
     },
     "execution_count": 7,
     "metadata": {},
     "output_type": "execute_result"
    }
   ],
   "source": [
    "#Importa PCA\n",
    "from sklearn.decomposition import PCA\n",
    "#Genera el objeto\n",
    "pca = PCA(n_components=2)\n",
    "\n",
    "X_nueva = pca.fit_transform(X)\n",
    "\n",
    "X_nueva[0:5]\n"
   ]
  },
  {
   "cell_type": "code",
   "execution_count": 8,
   "id": "dc96a6e4-46f5-49ed-abfa-9b16428e9fe8",
   "metadata": {},
   "outputs": [
    {
     "data": {
      "text/plain": [
       "array([9.99258771e-01, 6.86720501e-04])"
      ]
     },
     "execution_count": 8,
     "metadata": {},
     "output_type": "execute_result"
    }
   ],
   "source": [
    "#Calcula la distribución de la varianza\n",
    "pca.explained_variance_ratio_"
   ]
  },
  {
   "cell_type": "markdown",
   "id": "ed54a393-f421-4ddd-b22d-1de13e343beb",
   "metadata": {},
   "source": [
    "Esta distribución nos indica la proporción de varianza que cada componente principal contiene en comparación al set de datos original."
   ]
  },
  {
   "cell_type": "code",
   "execution_count": 9,
   "id": "b067be89-ca4d-431a-9ec8-2eca0ad3cb2b",
   "metadata": {},
   "outputs": [
    {
     "data": {
      "text/plain": [
       "array([[125.99002225],\n",
       "       [ 96.00334382],\n",
       "       [ 35.9933682 ],\n",
       "       [ 56.01690897],\n",
       "       [ 26.00908713]])"
      ]
     },
     "execution_count": 9,
     "metadata": {},
     "output_type": "execute_result"
    }
   ],
   "source": [
    "# Crea  un modelo donde tengas al menos el 90% de la varianza consevada\n",
    "pca = PCA(n_components=0.90)\n",
    "\n",
    "X_nueva = pca.fit_transform(X)\n",
    "\n",
    "X_nueva[0:5]"
   ]
  },
  {
   "cell_type": "markdown",
   "id": "2349ee1d-e7c6-4398-9b41-993ee9198283",
   "metadata": {},
   "source": [
    "***"
   ]
  },
  {
   "cell_type": "code",
   "execution_count": 11,
   "id": "73a5c55b-d8f9-4790-92b7-598b764df421",
   "metadata": {},
   "outputs": [
    {
     "data": {
      "text/plain": [
       "array([[  3.82183783, 779.97968511,   4.86595537],\n",
       "       [  3.64884435, 749.99546701,   4.52299595],\n",
       "       [  3.30264614, 689.99041504,   3.83665829],\n",
       "       [  3.41816217, 710.01231294,   4.06566872],\n",
       "       [  3.24504671, 680.00695316,   3.72246748]])"
      ]
     },
     "execution_count": 11,
     "metadata": {},
     "output_type": "execute_result"
    }
   ],
   "source": [
    "#Descomprime los datos con la función inverse_transform\n",
    "pca = PCA(n_components=1)\n",
    "\n",
    "X_nueva = pca.fit_transform(X)\n",
    "\n",
    "X_nueva[0:5]\n",
    "#Despliega el resultado de la descompresión\n",
    "X_recuperada = pca.inverse_transform(X_nueva)\n",
    "X_recuperada[0:5]"
   ]
  },
  {
   "cell_type": "markdown",
   "id": "a395bde4-9b1c-4a9e-a633-557971e013b6",
   "metadata": {},
   "source": [
    "Se pierde fidelidad porque no explica la variación en todos los datos pero es suficiente para entrenar al algoritmo"
   ]
  },
  {
   "cell_type": "markdown",
   "id": "86184122-f064-4fc7-bcbb-62fe931b3c34",
   "metadata": {},
   "source": [
    "***"
   ]
  },
  {
   "cell_type": "markdown",
   "id": "e6a2a10e-08db-41f1-b8e1-ca95b93ea193",
   "metadata": {},
   "source": [
    "### <span style=\"color:blue\">1.2 PCA Incremental</span>"
   ]
  },
  {
   "cell_type": "code",
   "execution_count": 12,
   "id": "e19b3821-f386-4f61-9d93-f57bcc00f916",
   "metadata": {},
   "outputs": [
    {
     "name": "stderr",
     "output_type": "stream",
     "text": [
      "c:\\Users\\miker\\anaconda3\\Lib\\site-packages\\numpy\\core\\fromnumeric.py:59: FutureWarning: 'DataFrame.swapaxes' is deprecated and will be removed in a future version. Please use 'DataFrame.transpose' instead.\n",
      "  return bound(*args, **kwds)\n"
     ]
    },
    {
     "data": {
      "text/plain": [
       "array([[125.99002318],\n",
       "       [ 96.00334408],\n",
       "       [ 35.99336862],\n",
       "       [ 56.01690849],\n",
       "       [ 26.00908696]])"
      ]
     },
     "execution_count": 12,
     "metadata": {},
     "output_type": "execute_result"
    }
   ],
   "source": [
    "#Importa IncrementalPCA\n",
    "from sklearn.decomposition import IncrementalPCA\n",
    "#Divide los datos en 3, es decir, 3 subsets.\n",
    "subsets = 3\n",
    "\n",
    "ipca = IncrementalPCA(n_components=1)\n",
    "\n",
    "for subset in np.array_split(X, subsets):\n",
    "    ipca.partial_fit(subset)\n",
    "\n",
    "X_nueva = ipca.transform(X)\n",
    "\n",
    "X_nueva[0:5]"
   ]
  },
  {
   "cell_type": "markdown",
   "id": "f9f93476-5111-4b2a-b3b7-ea24d88e4d39",
   "metadata": {},
   "source": [
    "***"
   ]
  },
  {
   "cell_type": "markdown",
   "id": "d652b6bd-7af3-4f07-ba28-7f7716cdc56c",
   "metadata": {},
   "source": [
    "## <span style=\"color:green\">2. Kernel PCA</span>"
   ]
  },
  {
   "cell_type": "code",
   "execution_count": 13,
   "id": "383ff89e-3e58-45f4-bd8c-1d6d610596e0",
   "metadata": {},
   "outputs": [],
   "source": [
    "#Importa KernelPCA\n",
    "from sklearn.decomposition import KernelPCA\n",
    "#Haz un rbf= Radial Basis function\n",
    "pca_rbf = KernelPCA(n_components=2, kernel='rbf')"
   ]
  },
  {
   "cell_type": "code",
   "execution_count": 14,
   "id": "f54d45af-b710-4f7b-afb7-cda37099076e",
   "metadata": {},
   "outputs": [
    {
     "data": {
      "text/plain": [
       "array([[-0.03746614, -0.04697463],\n",
       "       [-0.03746614, -0.04697463],\n",
       "       [-0.09203604, -0.18169782],\n",
       "       [-0.06508374, -0.0952682 ],\n",
       "       [-0.33597196,  0.80053796]])"
      ]
     },
     "execution_count": 14,
     "metadata": {},
     "output_type": "execute_result"
    }
   ],
   "source": [
    "X_nueva = pca_rbf.fit_transform(X)\n",
    "#Visualiza los resultado\n",
    "X_nueva[0:5]"
   ]
  },
  {
   "cell_type": "markdown",
   "id": "f842ec7d-c335-418b-b0f1-696889ac026b",
   "metadata": {},
   "source": [
    "### <span style=\"color:blue\">2.1 Seleccionar un Kernel</span>"
   ]
  },
  {
   "cell_type": "code",
   "execution_count": 15,
   "id": "60f25c1b-a8fc-4460-b9b8-577fa333a61c",
   "metadata": {},
   "outputs": [],
   "source": [
    "#Importa GridSearchCV\n",
    "from sklearn.model_selection import GridSearchCV\n",
    "#Importa LogisticRegressin\n",
    "from sklearn.linear_model import LogisticRegression\n",
    "#Importa Pipeline\n",
    "from sklearn.pipeline import Pipeline\n",
    "\n",
    "\n",
    "#Arma un pipeline que pase por KernelPCA y LogisticRegression\n",
    "clf = Pipeline([\n",
    "    (\"pca\", KernelPCA(n_components=2)),\n",
    "    (\"reg\", LogisticRegression())\n",
    "])"
   ]
  },
  {
   "cell_type": "code",
   "execution_count": 18,
   "id": "c8f6ecb6-5e2d-4c23-a12b-d030239477e2",
   "metadata": {},
   "outputs": [],
   "source": [
    "#Corre el GridSearch\n",
    "grid = [{\n",
    "    \"pca__gamma\": np.linspace(0.1, 0.5, 10),\n",
    "    \"pca__kernel\": [\"rbf\", \"sigmoid\"]\n",
    "}]"
   ]
  },
  {
   "cell_type": "code",
   "execution_count": 19,
   "id": "b45f0461-5fda-4dae-ba22-eb2bf69679ba",
   "metadata": {},
   "outputs": [
    {
     "data": {
      "text/html": [
       "<style>#sk-container-id-1 {\n",
       "  /* Definition of color scheme common for light and dark mode */\n",
       "  --sklearn-color-text: black;\n",
       "  --sklearn-color-line: gray;\n",
       "  /* Definition of color scheme for unfitted estimators */\n",
       "  --sklearn-color-unfitted-level-0: #fff5e6;\n",
       "  --sklearn-color-unfitted-level-1: #f6e4d2;\n",
       "  --sklearn-color-unfitted-level-2: #ffe0b3;\n",
       "  --sklearn-color-unfitted-level-3: chocolate;\n",
       "  /* Definition of color scheme for fitted estimators */\n",
       "  --sklearn-color-fitted-level-0: #f0f8ff;\n",
       "  --sklearn-color-fitted-level-1: #d4ebff;\n",
       "  --sklearn-color-fitted-level-2: #b3dbfd;\n",
       "  --sklearn-color-fitted-level-3: cornflowerblue;\n",
       "\n",
       "  /* Specific color for light theme */\n",
       "  --sklearn-color-text-on-default-background: var(--sg-text-color, var(--theme-code-foreground, var(--jp-content-font-color1, black)));\n",
       "  --sklearn-color-background: var(--sg-background-color, var(--theme-background, var(--jp-layout-color0, white)));\n",
       "  --sklearn-color-border-box: var(--sg-text-color, var(--theme-code-foreground, var(--jp-content-font-color1, black)));\n",
       "  --sklearn-color-icon: #696969;\n",
       "\n",
       "  @media (prefers-color-scheme: dark) {\n",
       "    /* Redefinition of color scheme for dark theme */\n",
       "    --sklearn-color-text-on-default-background: var(--sg-text-color, var(--theme-code-foreground, var(--jp-content-font-color1, white)));\n",
       "    --sklearn-color-background: var(--sg-background-color, var(--theme-background, var(--jp-layout-color0, #111)));\n",
       "    --sklearn-color-border-box: var(--sg-text-color, var(--theme-code-foreground, var(--jp-content-font-color1, white)));\n",
       "    --sklearn-color-icon: #878787;\n",
       "  }\n",
       "}\n",
       "\n",
       "#sk-container-id-1 {\n",
       "  color: var(--sklearn-color-text);\n",
       "}\n",
       "\n",
       "#sk-container-id-1 pre {\n",
       "  padding: 0;\n",
       "}\n",
       "\n",
       "#sk-container-id-1 input.sk-hidden--visually {\n",
       "  border: 0;\n",
       "  clip: rect(1px 1px 1px 1px);\n",
       "  clip: rect(1px, 1px, 1px, 1px);\n",
       "  height: 1px;\n",
       "  margin: -1px;\n",
       "  overflow: hidden;\n",
       "  padding: 0;\n",
       "  position: absolute;\n",
       "  width: 1px;\n",
       "}\n",
       "\n",
       "#sk-container-id-1 div.sk-dashed-wrapped {\n",
       "  border: 1px dashed var(--sklearn-color-line);\n",
       "  margin: 0 0.4em 0.5em 0.4em;\n",
       "  box-sizing: border-box;\n",
       "  padding-bottom: 0.4em;\n",
       "  background-color: var(--sklearn-color-background);\n",
       "}\n",
       "\n",
       "#sk-container-id-1 div.sk-container {\n",
       "  /* jupyter's `normalize.less` sets `[hidden] { display: none; }`\n",
       "     but bootstrap.min.css set `[hidden] { display: none !important; }`\n",
       "     so we also need the `!important` here to be able to override the\n",
       "     default hidden behavior on the sphinx rendered scikit-learn.org.\n",
       "     See: https://github.com/scikit-learn/scikit-learn/issues/21755 */\n",
       "  display: inline-block !important;\n",
       "  position: relative;\n",
       "}\n",
       "\n",
       "#sk-container-id-1 div.sk-text-repr-fallback {\n",
       "  display: none;\n",
       "}\n",
       "\n",
       "div.sk-parallel-item,\n",
       "div.sk-serial,\n",
       "div.sk-item {\n",
       "  /* draw centered vertical line to link estimators */\n",
       "  background-image: linear-gradient(var(--sklearn-color-text-on-default-background), var(--sklearn-color-text-on-default-background));\n",
       "  background-size: 2px 100%;\n",
       "  background-repeat: no-repeat;\n",
       "  background-position: center center;\n",
       "}\n",
       "\n",
       "/* Parallel-specific style estimator block */\n",
       "\n",
       "#sk-container-id-1 div.sk-parallel-item::after {\n",
       "  content: \"\";\n",
       "  width: 100%;\n",
       "  border-bottom: 2px solid var(--sklearn-color-text-on-default-background);\n",
       "  flex-grow: 1;\n",
       "}\n",
       "\n",
       "#sk-container-id-1 div.sk-parallel {\n",
       "  display: flex;\n",
       "  align-items: stretch;\n",
       "  justify-content: center;\n",
       "  background-color: var(--sklearn-color-background);\n",
       "  position: relative;\n",
       "}\n",
       "\n",
       "#sk-container-id-1 div.sk-parallel-item {\n",
       "  display: flex;\n",
       "  flex-direction: column;\n",
       "}\n",
       "\n",
       "#sk-container-id-1 div.sk-parallel-item:first-child::after {\n",
       "  align-self: flex-end;\n",
       "  width: 50%;\n",
       "}\n",
       "\n",
       "#sk-container-id-1 div.sk-parallel-item:last-child::after {\n",
       "  align-self: flex-start;\n",
       "  width: 50%;\n",
       "}\n",
       "\n",
       "#sk-container-id-1 div.sk-parallel-item:only-child::after {\n",
       "  width: 0;\n",
       "}\n",
       "\n",
       "/* Serial-specific style estimator block */\n",
       "\n",
       "#sk-container-id-1 div.sk-serial {\n",
       "  display: flex;\n",
       "  flex-direction: column;\n",
       "  align-items: center;\n",
       "  background-color: var(--sklearn-color-background);\n",
       "  padding-right: 1em;\n",
       "  padding-left: 1em;\n",
       "}\n",
       "\n",
       "\n",
       "/* Toggleable style: style used for estimator/Pipeline/ColumnTransformer box that is\n",
       "clickable and can be expanded/collapsed.\n",
       "- Pipeline and ColumnTransformer use this feature and define the default style\n",
       "- Estimators will overwrite some part of the style using the `sk-estimator` class\n",
       "*/\n",
       "\n",
       "/* Pipeline and ColumnTransformer style (default) */\n",
       "\n",
       "#sk-container-id-1 div.sk-toggleable {\n",
       "  /* Default theme specific background. It is overwritten whether we have a\n",
       "  specific estimator or a Pipeline/ColumnTransformer */\n",
       "  background-color: var(--sklearn-color-background);\n",
       "}\n",
       "\n",
       "/* Toggleable label */\n",
       "#sk-container-id-1 label.sk-toggleable__label {\n",
       "  cursor: pointer;\n",
       "  display: block;\n",
       "  width: 100%;\n",
       "  margin-bottom: 0;\n",
       "  padding: 0.5em;\n",
       "  box-sizing: border-box;\n",
       "  text-align: center;\n",
       "}\n",
       "\n",
       "#sk-container-id-1 label.sk-toggleable__label-arrow:before {\n",
       "  /* Arrow on the left of the label */\n",
       "  content: \"▸\";\n",
       "  float: left;\n",
       "  margin-right: 0.25em;\n",
       "  color: var(--sklearn-color-icon);\n",
       "}\n",
       "\n",
       "#sk-container-id-1 label.sk-toggleable__label-arrow:hover:before {\n",
       "  color: var(--sklearn-color-text);\n",
       "}\n",
       "\n",
       "/* Toggleable content - dropdown */\n",
       "\n",
       "#sk-container-id-1 div.sk-toggleable__content {\n",
       "  max-height: 0;\n",
       "  max-width: 0;\n",
       "  overflow: hidden;\n",
       "  text-align: left;\n",
       "  /* unfitted */\n",
       "  background-color: var(--sklearn-color-unfitted-level-0);\n",
       "}\n",
       "\n",
       "#sk-container-id-1 div.sk-toggleable__content.fitted {\n",
       "  /* fitted */\n",
       "  background-color: var(--sklearn-color-fitted-level-0);\n",
       "}\n",
       "\n",
       "#sk-container-id-1 div.sk-toggleable__content pre {\n",
       "  margin: 0.2em;\n",
       "  border-radius: 0.25em;\n",
       "  color: var(--sklearn-color-text);\n",
       "  /* unfitted */\n",
       "  background-color: var(--sklearn-color-unfitted-level-0);\n",
       "}\n",
       "\n",
       "#sk-container-id-1 div.sk-toggleable__content.fitted pre {\n",
       "  /* unfitted */\n",
       "  background-color: var(--sklearn-color-fitted-level-0);\n",
       "}\n",
       "\n",
       "#sk-container-id-1 input.sk-toggleable__control:checked~div.sk-toggleable__content {\n",
       "  /* Expand drop-down */\n",
       "  max-height: 200px;\n",
       "  max-width: 100%;\n",
       "  overflow: auto;\n",
       "}\n",
       "\n",
       "#sk-container-id-1 input.sk-toggleable__control:checked~label.sk-toggleable__label-arrow:before {\n",
       "  content: \"▾\";\n",
       "}\n",
       "\n",
       "/* Pipeline/ColumnTransformer-specific style */\n",
       "\n",
       "#sk-container-id-1 div.sk-label input.sk-toggleable__control:checked~label.sk-toggleable__label {\n",
       "  color: var(--sklearn-color-text);\n",
       "  background-color: var(--sklearn-color-unfitted-level-2);\n",
       "}\n",
       "\n",
       "#sk-container-id-1 div.sk-label.fitted input.sk-toggleable__control:checked~label.sk-toggleable__label {\n",
       "  background-color: var(--sklearn-color-fitted-level-2);\n",
       "}\n",
       "\n",
       "/* Estimator-specific style */\n",
       "\n",
       "/* Colorize estimator box */\n",
       "#sk-container-id-1 div.sk-estimator input.sk-toggleable__control:checked~label.sk-toggleable__label {\n",
       "  /* unfitted */\n",
       "  background-color: var(--sklearn-color-unfitted-level-2);\n",
       "}\n",
       "\n",
       "#sk-container-id-1 div.sk-estimator.fitted input.sk-toggleable__control:checked~label.sk-toggleable__label {\n",
       "  /* fitted */\n",
       "  background-color: var(--sklearn-color-fitted-level-2);\n",
       "}\n",
       "\n",
       "#sk-container-id-1 div.sk-label label.sk-toggleable__label,\n",
       "#sk-container-id-1 div.sk-label label {\n",
       "  /* The background is the default theme color */\n",
       "  color: var(--sklearn-color-text-on-default-background);\n",
       "}\n",
       "\n",
       "/* On hover, darken the color of the background */\n",
       "#sk-container-id-1 div.sk-label:hover label.sk-toggleable__label {\n",
       "  color: var(--sklearn-color-text);\n",
       "  background-color: var(--sklearn-color-unfitted-level-2);\n",
       "}\n",
       "\n",
       "/* Label box, darken color on hover, fitted */\n",
       "#sk-container-id-1 div.sk-label.fitted:hover label.sk-toggleable__label.fitted {\n",
       "  color: var(--sklearn-color-text);\n",
       "  background-color: var(--sklearn-color-fitted-level-2);\n",
       "}\n",
       "\n",
       "/* Estimator label */\n",
       "\n",
       "#sk-container-id-1 div.sk-label label {\n",
       "  font-family: monospace;\n",
       "  font-weight: bold;\n",
       "  display: inline-block;\n",
       "  line-height: 1.2em;\n",
       "}\n",
       "\n",
       "#sk-container-id-1 div.sk-label-container {\n",
       "  text-align: center;\n",
       "}\n",
       "\n",
       "/* Estimator-specific */\n",
       "#sk-container-id-1 div.sk-estimator {\n",
       "  font-family: monospace;\n",
       "  border: 1px dotted var(--sklearn-color-border-box);\n",
       "  border-radius: 0.25em;\n",
       "  box-sizing: border-box;\n",
       "  margin-bottom: 0.5em;\n",
       "  /* unfitted */\n",
       "  background-color: var(--sklearn-color-unfitted-level-0);\n",
       "}\n",
       "\n",
       "#sk-container-id-1 div.sk-estimator.fitted {\n",
       "  /* fitted */\n",
       "  background-color: var(--sklearn-color-fitted-level-0);\n",
       "}\n",
       "\n",
       "/* on hover */\n",
       "#sk-container-id-1 div.sk-estimator:hover {\n",
       "  /* unfitted */\n",
       "  background-color: var(--sklearn-color-unfitted-level-2);\n",
       "}\n",
       "\n",
       "#sk-container-id-1 div.sk-estimator.fitted:hover {\n",
       "  /* fitted */\n",
       "  background-color: var(--sklearn-color-fitted-level-2);\n",
       "}\n",
       "\n",
       "/* Specification for estimator info (e.g. \"i\" and \"?\") */\n",
       "\n",
       "/* Common style for \"i\" and \"?\" */\n",
       "\n",
       ".sk-estimator-doc-link,\n",
       "a:link.sk-estimator-doc-link,\n",
       "a:visited.sk-estimator-doc-link {\n",
       "  float: right;\n",
       "  font-size: smaller;\n",
       "  line-height: 1em;\n",
       "  font-family: monospace;\n",
       "  background-color: var(--sklearn-color-background);\n",
       "  border-radius: 1em;\n",
       "  height: 1em;\n",
       "  width: 1em;\n",
       "  text-decoration: none !important;\n",
       "  margin-left: 1ex;\n",
       "  /* unfitted */\n",
       "  border: var(--sklearn-color-unfitted-level-1) 1pt solid;\n",
       "  color: var(--sklearn-color-unfitted-level-1);\n",
       "}\n",
       "\n",
       ".sk-estimator-doc-link.fitted,\n",
       "a:link.sk-estimator-doc-link.fitted,\n",
       "a:visited.sk-estimator-doc-link.fitted {\n",
       "  /* fitted */\n",
       "  border: var(--sklearn-color-fitted-level-1) 1pt solid;\n",
       "  color: var(--sklearn-color-fitted-level-1);\n",
       "}\n",
       "\n",
       "/* On hover */\n",
       "div.sk-estimator:hover .sk-estimator-doc-link:hover,\n",
       ".sk-estimator-doc-link:hover,\n",
       "div.sk-label-container:hover .sk-estimator-doc-link:hover,\n",
       ".sk-estimator-doc-link:hover {\n",
       "  /* unfitted */\n",
       "  background-color: var(--sklearn-color-unfitted-level-3);\n",
       "  color: var(--sklearn-color-background);\n",
       "  text-decoration: none;\n",
       "}\n",
       "\n",
       "div.sk-estimator.fitted:hover .sk-estimator-doc-link.fitted:hover,\n",
       ".sk-estimator-doc-link.fitted:hover,\n",
       "div.sk-label-container:hover .sk-estimator-doc-link.fitted:hover,\n",
       ".sk-estimator-doc-link.fitted:hover {\n",
       "  /* fitted */\n",
       "  background-color: var(--sklearn-color-fitted-level-3);\n",
       "  color: var(--sklearn-color-background);\n",
       "  text-decoration: none;\n",
       "}\n",
       "\n",
       "/* Span, style for the box shown on hovering the info icon */\n",
       ".sk-estimator-doc-link span {\n",
       "  display: none;\n",
       "  z-index: 9999;\n",
       "  position: relative;\n",
       "  font-weight: normal;\n",
       "  right: .2ex;\n",
       "  padding: .5ex;\n",
       "  margin: .5ex;\n",
       "  width: min-content;\n",
       "  min-width: 20ex;\n",
       "  max-width: 50ex;\n",
       "  color: var(--sklearn-color-text);\n",
       "  box-shadow: 2pt 2pt 4pt #999;\n",
       "  /* unfitted */\n",
       "  background: var(--sklearn-color-unfitted-level-0);\n",
       "  border: .5pt solid var(--sklearn-color-unfitted-level-3);\n",
       "}\n",
       "\n",
       ".sk-estimator-doc-link.fitted span {\n",
       "  /* fitted */\n",
       "  background: var(--sklearn-color-fitted-level-0);\n",
       "  border: var(--sklearn-color-fitted-level-3);\n",
       "}\n",
       "\n",
       ".sk-estimator-doc-link:hover span {\n",
       "  display: block;\n",
       "}\n",
       "\n",
       "/* \"?\"-specific style due to the `<a>` HTML tag */\n",
       "\n",
       "#sk-container-id-1 a.estimator_doc_link {\n",
       "  float: right;\n",
       "  font-size: 1rem;\n",
       "  line-height: 1em;\n",
       "  font-family: monospace;\n",
       "  background-color: var(--sklearn-color-background);\n",
       "  border-radius: 1rem;\n",
       "  height: 1rem;\n",
       "  width: 1rem;\n",
       "  text-decoration: none;\n",
       "  /* unfitted */\n",
       "  color: var(--sklearn-color-unfitted-level-1);\n",
       "  border: var(--sklearn-color-unfitted-level-1) 1pt solid;\n",
       "}\n",
       "\n",
       "#sk-container-id-1 a.estimator_doc_link.fitted {\n",
       "  /* fitted */\n",
       "  border: var(--sklearn-color-fitted-level-1) 1pt solid;\n",
       "  color: var(--sklearn-color-fitted-level-1);\n",
       "}\n",
       "\n",
       "/* On hover */\n",
       "#sk-container-id-1 a.estimator_doc_link:hover {\n",
       "  /* unfitted */\n",
       "  background-color: var(--sklearn-color-unfitted-level-3);\n",
       "  color: var(--sklearn-color-background);\n",
       "  text-decoration: none;\n",
       "}\n",
       "\n",
       "#sk-container-id-1 a.estimator_doc_link.fitted:hover {\n",
       "  /* fitted */\n",
       "  background-color: var(--sklearn-color-fitted-level-3);\n",
       "}\n",
       "</style><div id=\"sk-container-id-1\" class=\"sk-top-container\"><div class=\"sk-text-repr-fallback\"><pre>GridSearchCV(estimator=Pipeline(steps=[(&#x27;pca&#x27;, KernelPCA(n_components=2)),\n",
       "                                       (&#x27;reg&#x27;, LogisticRegression())]),\n",
       "             param_grid=[{&#x27;pca__gamma&#x27;: array([0.1       , 0.14444444, 0.18888889, 0.23333333, 0.27777778,\n",
       "       0.32222222, 0.36666667, 0.41111111, 0.45555556, 0.5       ]),\n",
       "                          &#x27;pca__kernel&#x27;: [&#x27;rbf&#x27;, &#x27;sigmoid&#x27;]}])</pre><b>In a Jupyter environment, please rerun this cell to show the HTML representation or trust the notebook. <br />On GitHub, the HTML representation is unable to render, please try loading this page with nbviewer.org.</b></div><div class=\"sk-container\" hidden><div class=\"sk-item sk-dashed-wrapped\"><div class=\"sk-label-container\"><div class=\"sk-label fitted sk-toggleable\"><input class=\"sk-toggleable__control sk-hidden--visually\" id=\"sk-estimator-id-1\" type=\"checkbox\" ><label for=\"sk-estimator-id-1\" class=\"sk-toggleable__label fitted sk-toggleable__label-arrow fitted\">&nbsp;&nbsp;GridSearchCV<a class=\"sk-estimator-doc-link fitted\" rel=\"noreferrer\" target=\"_blank\" href=\"https://scikit-learn.org/1.4/modules/generated/sklearn.model_selection.GridSearchCV.html\">?<span>Documentation for GridSearchCV</span></a><span class=\"sk-estimator-doc-link fitted\">i<span>Fitted</span></span></label><div class=\"sk-toggleable__content fitted\"><pre>GridSearchCV(estimator=Pipeline(steps=[(&#x27;pca&#x27;, KernelPCA(n_components=2)),\n",
       "                                       (&#x27;reg&#x27;, LogisticRegression())]),\n",
       "             param_grid=[{&#x27;pca__gamma&#x27;: array([0.1       , 0.14444444, 0.18888889, 0.23333333, 0.27777778,\n",
       "       0.32222222, 0.36666667, 0.41111111, 0.45555556, 0.5       ]),\n",
       "                          &#x27;pca__kernel&#x27;: [&#x27;rbf&#x27;, &#x27;sigmoid&#x27;]}])</pre></div> </div></div><div class=\"sk-parallel\"><div class=\"sk-parallel-item\"><div class=\"sk-item\"><div class=\"sk-label-container\"><div class=\"sk-label fitted sk-toggleable\"><input class=\"sk-toggleable__control sk-hidden--visually\" id=\"sk-estimator-id-2\" type=\"checkbox\" ><label for=\"sk-estimator-id-2\" class=\"sk-toggleable__label fitted sk-toggleable__label-arrow fitted\">estimator: Pipeline</label><div class=\"sk-toggleable__content fitted\"><pre>Pipeline(steps=[(&#x27;pca&#x27;, KernelPCA(n_components=2)),\n",
       "                (&#x27;reg&#x27;, LogisticRegression())])</pre></div> </div></div><div class=\"sk-serial\"><div class=\"sk-item\"><div class=\"sk-serial\"><div class=\"sk-item\"><div class=\"sk-estimator fitted sk-toggleable\"><input class=\"sk-toggleable__control sk-hidden--visually\" id=\"sk-estimator-id-3\" type=\"checkbox\" ><label for=\"sk-estimator-id-3\" class=\"sk-toggleable__label fitted sk-toggleable__label-arrow fitted\">&nbsp;KernelPCA<a class=\"sk-estimator-doc-link fitted\" rel=\"noreferrer\" target=\"_blank\" href=\"https://scikit-learn.org/1.4/modules/generated/sklearn.decomposition.KernelPCA.html\">?<span>Documentation for KernelPCA</span></a></label><div class=\"sk-toggleable__content fitted\"><pre>KernelPCA(n_components=2)</pre></div> </div></div><div class=\"sk-item\"><div class=\"sk-estimator fitted sk-toggleable\"><input class=\"sk-toggleable__control sk-hidden--visually\" id=\"sk-estimator-id-4\" type=\"checkbox\" ><label for=\"sk-estimator-id-4\" class=\"sk-toggleable__label fitted sk-toggleable__label-arrow fitted\">&nbsp;LogisticRegression<a class=\"sk-estimator-doc-link fitted\" rel=\"noreferrer\" target=\"_blank\" href=\"https://scikit-learn.org/1.4/modules/generated/sklearn.linear_model.LogisticRegression.html\">?<span>Documentation for LogisticRegression</span></a></label><div class=\"sk-toggleable__content fitted\"><pre>LogisticRegression()</pre></div> </div></div></div></div></div></div></div></div></div></div></div>"
      ],
      "text/plain": [
       "GridSearchCV(estimator=Pipeline(steps=[('pca', KernelPCA(n_components=2)),\n",
       "                                       ('reg', LogisticRegression())]),\n",
       "             param_grid=[{'pca__gamma': array([0.1       , 0.14444444, 0.18888889, 0.23333333, 0.27777778,\n",
       "       0.32222222, 0.36666667, 0.41111111, 0.45555556, 0.5       ]),\n",
       "                          'pca__kernel': ['rbf', 'sigmoid']}])"
      ]
     },
     "execution_count": 19,
     "metadata": {},
     "output_type": "execute_result"
    }
   ],
   "source": [
    "#Ejecuta el GridSearch\n",
    "search = GridSearchCV(clf, grid)\n",
    "search.fit(X, y)"
   ]
  },
  {
   "cell_type": "code",
   "execution_count": 20,
   "id": "c9615bba-6edd-4c1a-9d55-31c4136ffb47",
   "metadata": {},
   "outputs": [
    {
     "name": "stdout",
     "output_type": "stream",
     "text": [
      "Los mejores parametros para: {'pca__gamma': 0.14444444444444446, 'pca__kernel': 'rbf'}\n"
     ]
    }
   ],
   "source": [
    "#Imprime el mejor parámetro que equivale al PCA que será la mejor regresión logística\n",
    "print(f\"Los mejores parametros para: {search.best_params_}\")"
   ]
  },
  {
   "cell_type": "markdown",
   "id": "1969c715-fdb3-419f-a290-e5706e16c4e9",
   "metadata": {},
   "source": [
    "## <span style=\"color:green\">2. LLE</span>"
   ]
  },
  {
   "cell_type": "markdown",
   "id": "64e092d2-6ad4-434e-9045-680334294cda",
   "metadata": {},
   "source": [
    "LLE= Locally Linear Embedding (No es mi favorita 😴)"
   ]
  },
  {
   "cell_type": "markdown",
   "id": "87099143-221a-4906-b399-bda8ed779fa6",
   "metadata": {},
   "source": [
    "Es un método de reducción de dimensionalidad no lineal y **no depende de proyecciones**\n",
    "\n",
    "Funciona midiendo como cada instancia de entrenamiento se relaciona linealmente con sus instancias vecinas y busca una representación lineal de pocas dimensiones del set de datos donde estas relaciones entre instancias cercanas o vecinas están bien preservadas. "
   ]
  },
  {
   "cell_type": "code",
   "execution_count": 21,
   "id": "39d0f66d-f611-4425-a417-654775b1f65e",
   "metadata": {},
   "outputs": [
    {
     "data": {
      "text/plain": [
       "array([[ 0.17455358,  0.54429708],\n",
       "       [ 0.16458675,  0.31468021],\n",
       "       [ 0.14479511, -0.15096839],\n",
       "       [ 0.151172  ,  0.00563436],\n",
       "       [ 0.11317562, -0.13502106]])"
      ]
     },
     "execution_count": 21,
     "metadata": {},
     "output_type": "execute_result"
    }
   ],
   "source": [
    "#Importa LocallyLinearEmbedding\n",
    "from sklearn.manifold import LocallyLinearEmbedding\n",
    "#Selecciona el número de dimensiones, componentes y \"vecinos\"\n",
    "LLE = LocallyLinearEmbedding(\n",
    "    n_neighbors=5,\n",
    "    n_components=2,\n",
    "    reg=0.001,\n",
    "    eigen_solver='auto',\n",
    "    tol=1e-06,\n",
    "    max_iter=100,\n",
    "    method='standard',\n",
    "    hessian_tol=0.0001,\n",
    "    modified_tol=1e-12,\n",
    "    neighbors_algorithm='auto',\n",
    "    random_state=None,\n",
    "    n_jobs=None\n",
    ")\n",
    "\n",
    "X_nueva = LLE.fit_transform(X)\n",
    "\n",
    "X_nueva[0:5]"
   ]
  }
 ],
 "metadata": {
  "kernelspec": {
   "display_name": "Python 3 (ipykernel)",
   "language": "python",
   "name": "python3"
  },
  "language_info": {
   "codemirror_mode": {
    "name": "ipython",
    "version": 3
   },
   "file_extension": ".py",
   "mimetype": "text/x-python",
   "name": "python",
   "nbconvert_exporter": "python",
   "pygments_lexer": "ipython3",
   "version": "3.11.9"
  }
 },
 "nbformat": 4,
 "nbformat_minor": 5
}
